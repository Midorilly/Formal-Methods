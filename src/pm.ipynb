{
 "cells": [
  {
   "cell_type": "code",
   "execution_count": 8,
   "outputs": [],
   "source": [
    "import pandas as pd\n",
    "import numpy as np"
   ],
   "metadata": {
    "collapsed": false,
    "pycharm": {
     "name": "#%%\n"
    }
   }
  },
  {
   "cell_type": "code",
   "execution_count": 9,
   "outputs": [],
   "source": [
    "df = pd.read_csv(\"split_pm_output.csv\", parse_dates=[\"timestamp\"])\n",
    "#print(df)"
   ],
   "metadata": {
    "collapsed": false,
    "pycharm": {
     "name": "#%%\n"
    }
   }
  },
  {
   "cell_type": "code",
   "execution_count": 132,
   "outputs": [],
   "source": [
    "activities = ['BrushTeeth', 'Eating', 'GetDressed', 'GetDrink', 'GetSnack', 'GoToBed', 'LeaveHouse', 'None', 'PrepareBreakfast', 'PrepareDinner', 'PrepareLunch', 'Relax', 'Shave', 'TakeMedication', 'TakeShower', 'UseToiletDownstairs', 'UseToiletUpstairs']\n",
    "df = df.replace(np.nan, 'e')"
   ],
   "metadata": {
    "collapsed": false,
    "pycharm": {
     "name": "#%%\n"
    }
   }
  },
  {
   "cell_type": "code",
   "execution_count": 140,
   "outputs": [],
   "source": [
    "split_df = pd.DataFrame(columns = ['timestamp', 'date', 'time', 'sensor', 'action', 'event', 'pattern', 'activity'], index=range(0,23282))"
   ],
   "metadata": {
    "collapsed": false,
    "pycharm": {
     "name": "#%%\n"
    }
   }
  },
  {
   "cell_type": "code",
   "execution_count": 141,
   "outputs": [],
   "source": [
    "s = 0\n",
    "for i in range(len(df)):\n",
    "    #3 activities\n",
    "    if df.loc[i, 'activity_3'] != 'e':\n",
    "        split_df.iloc[s] = pd.Series({'timestamp': df.loc[i, 'timestamp'], 'date': df.loc[i, 'date'], 'time': df.loc[i, 'time'], 'sensor': df.loc[i, 'sensor'], 'action': df.loc[i, 'action'], 'event': df.loc[i, 'event'], 'pattern': df.loc[i, 'pattern'], 'activity': df.loc[i, 'activity_1']})\n",
    "        s += 1\n",
    "        split_df.iloc[s] = pd.Series({'timestamp': df.loc[i, 'timestamp'], 'date': df.loc[i, 'date'], 'time': df.loc[i, 'time'], 'sensor': df.loc[i, 'sensor'], 'action': df.loc[i, 'action'], 'event': df.loc[i, 'event'], 'pattern': df.loc[i, 'pattern'], 'activity': df.loc[i, 'activity_2']})\n",
    "        s += 1\n",
    "        split_df.iloc[s] = pd.Series({'timestamp': df.loc[i, 'timestamp'], 'date': df.loc[i, 'date'], 'time': df.loc[i, 'time'], 'sensor': df.loc[i, 'sensor'], 'action': df.loc[i, 'action'], 'event': df.loc[i, 'event'], 'pattern': df.loc[i, 'pattern'], 'activity': df.loc[i, 'activity_3']})\n",
    "        s += 1\n",
    "    #2 activities\n",
    "    elif df.loc[i, 'activity_2'] != 'e':\n",
    "        split_df.iloc[s] = pd.Series({'timestamp': df.loc[i, 'timestamp'], 'date': df.loc[i, 'date'], 'time': df.loc[i, 'time'], 'sensor': df.loc[i, 'sensor'], 'action': df.loc[i, 'action'], 'event': df.loc[i, 'event'], 'pattern': df.loc[i, 'pattern'], 'activity': df.loc[i, 'activity_1']})\n",
    "        s += 1\n",
    "        split_df.iloc[s] = pd.Series({'timestamp': df.loc[i, 'timestamp'], 'date': df.loc[i, 'date'], 'time': df.loc[i, 'time'], 'sensor': df.loc[i, 'sensor'], 'action': df.loc[i, 'action'], 'event': df.loc[i, 'event'], 'pattern': df.loc[i, 'pattern'], 'activity': df.loc[i, 'activity_2']})\n",
    "        s += 1\n",
    "    #1 activities\n",
    "    elif df.loc[i, 'activity_2'] == 'e':\n",
    "        split_df.iloc[s] = pd.Series({'timestamp': df.loc[i, 'timestamp'], 'date': df.loc[i, 'date'], 'time': df.loc[i, 'time'], 'sensor': df.loc[i, 'sensor'], 'action': df.loc[i, 'action'], 'event': df.loc[i, 'event'], 'pattern': df.loc[i, 'pattern'], 'activity': df.loc[i, 'activity_1']})\n",
    "        s += 1"
   ],
   "metadata": {
    "collapsed": false,
    "pycharm": {
     "name": "#%%\n"
    }
   }
  },
  {
   "cell_type": "code",
   "execution_count": 142,
   "outputs": [],
   "source": [
    "split_df.to_csv('out.csv', header = ['timestamp', 'date', 'time', 'sensor', 'action', 'event', 'pattern', 'activity'])"
   ],
   "metadata": {
    "collapsed": false,
    "pycharm": {
     "name": "#%%\n"
    }
   }
  },
  {
   "cell_type": "code",
   "execution_count": 16,
   "outputs": [],
   "source": [
    "#import pm4py\n",
    "# read the dataset into a pandas dataframe\n",
    "dataset = pd.read_csv(\"out.csv\", parse_dates=[\"timestamp\"])\n",
    "#print(dataset)"
   ],
   "metadata": {
    "collapsed": false,
    "pycharm": {
     "name": "#%%\n"
    }
   }
  },
  {
   "cell_type": "code",
   "execution_count": 47,
   "outputs": [],
   "source": [
    "monday = pd.DataFrame(columns = ['timestamp', 'date', 'time', 'sensor', 'action', 'event', 'pattern', 'activity'], index=range(0,2008))\n",
    "monday_test = pd.DataFrame(columns = ['timestamp', 'date', 'time', 'sensor', 'action', 'event', 'pattern', 'activity'], index=range(0,1687))\n",
    "m24 = pd.Timestamp('2008-11-24 07:00:00')\n",
    "m25 = pd.Timestamp('2008-11-25 06:59:59')\n",
    "m01 = pd.Timestamp('2008-12-01 07:00:00')\n",
    "m02 = pd.Timestamp('2008-12-02 06:59:59')\n",
    "m08 = pd.Timestamp('2008-12-08 07:00:00')\n",
    "m09 = pd.Timestamp('2008-12-09 06:59:59')\n",
    "m = 0\n",
    "mt = 0\n",
    "for i in range(len(dataset)):\n",
    "    if (dataset.loc[i, 'timestamp'] >= m24 and dataset.loc[i, 'timestamp'] <= m25) or (dataset.loc[i, 'timestamp'] >= m08 and dataset.loc[i, 'timestamp'] <= m09):\n",
    "        monday.iloc[m] = pd.Series({'timestamp': dataset.loc[i, 'timestamp'], 'date': dataset.loc[i, 'date'], 'time': dataset.loc[i, 'time'], 'sensor': dataset.loc[i, 'sensor'], 'action': dataset.loc[i, 'action'], 'event': dataset.loc[i, 'event'], 'pattern': dataset.loc[i, 'pattern'], 'activity': dataset.loc[i, 'activity']})\n",
    "        m += 1\n",
    "    elif (dataset.loc[i, 'timestamp'] >= m01 and dataset.loc[i, 'timestamp'] <= m02):\n",
    "        monday_test.iloc[mt] = pd.Series({'timestamp': dataset.loc[i, 'timestamp'], 'date': dataset.loc[i, 'date'], 'time': dataset.loc[i, 'time'], 'sensor': dataset.loc[i, 'sensor'], 'action': dataset.loc[i, 'action'], 'event': dataset.loc[i, 'event'], 'pattern': dataset.loc[i, 'pattern'], 'activity': dataset.loc[i, 'activity']})\n",
    "        mt += 1\n",
    "\n",
    "monday.to_csv(\"hours/monday726.csv\", header = ['timestamp', 'date', 'time', 'sensor', 'action', 'event', 'pattern', 'activity'])\n",
    "monday_test.to_csv(\"hours/monday726_test.csv\", header = ['timestamp', 'date', 'time', 'sensor', 'action', 'event', 'pattern', 'activity'])"
   ],
   "metadata": {
    "collapsed": false,
    "pycharm": {
     "name": "#%%\n"
    }
   }
  },
  {
   "cell_type": "code",
   "execution_count": 49,
   "outputs": [],
   "source": [
    "tuesday = pd.DataFrame(columns = ['timestamp', 'date', 'time', 'sensor', 'action', 'event', 'pattern', 'activity'], index=range(0,1078))\n",
    "tuesday_test = pd.DataFrame(columns = ['timestamp', 'date', 'time', 'sensor', 'action', 'event', 'pattern', 'activity'], index=range(0,1117))\n",
    "t25 = pd.Timestamp('2008-11-25 07:00:00')\n",
    "t26 = pd.Timestamp('2008-11-26 06:59:59')\n",
    "t02 = pd.Timestamp('2008-12-02 07:00:00')\n",
    "t03 = pd.Timestamp('2008-12-03 06:59:59')\n",
    "t = 0\n",
    "tt = 0\n",
    "for i in range(len(dataset)):\n",
    "    if (dataset.loc[i, 'timestamp'] >= t25 and dataset.loc[i, 'timestamp'] <= t26):\n",
    "        tuesday.iloc[t] = pd.Series({'timestamp': dataset.loc[i, 'timestamp'], 'date': dataset.loc[i, 'date'], 'time': dataset.loc[i, 'time'], 'sensor': dataset.loc[i, 'sensor'], 'action': dataset.loc[i, 'action'], 'event': dataset.loc[i, 'event'], 'pattern': dataset.loc[i, 'pattern'], 'activity': dataset.loc[i, 'activity']})\n",
    "        t += 1\n",
    "    elif (dataset.loc[i, 'timestamp'] >= t02 and dataset.loc[i, 'timestamp'] <= t03):\n",
    "        tuesday_test.iloc[tt] = pd.Series({'timestamp': dataset.loc[i, 'timestamp'], 'date': dataset.loc[i, 'date'], 'time': dataset.loc[i, 'time'], 'sensor': dataset.loc[i, 'sensor'], 'action': dataset.loc[i, 'action'], 'event': dataset.loc[i, 'event'], 'pattern': dataset.loc[i, 'pattern'], 'activity': dataset.loc[i, 'activity']})\n",
    "        tt += 1\n",
    "\n",
    "tuesday.to_csv(\"hours/tuesday726.csv\", header = ['timestamp', 'date', 'time', 'sensor', 'action', 'event', 'pattern', 'activity'])\n",
    "tuesday_test.to_csv(\"hours/tuesday726_test.csv\", header = ['timestamp', 'date', 'time', 'sensor', 'action', 'event', 'pattern', 'activity'])"
   ],
   "metadata": {
    "collapsed": false,
    "pycharm": {
     "name": "#%%\n"
    }
   }
  },
  {
   "cell_type": "code",
   "execution_count": 51,
   "outputs": [],
   "source": [
    "wednesday = pd.DataFrame(columns = ['timestamp', 'date', 'time', 'sensor', 'action', 'event', 'pattern', 'activity'], index=range(0,1536))\n",
    "wednesday_test = pd.DataFrame(columns = ['timestamp', 'date', 'time', 'sensor', 'action', 'event', 'pattern', 'activity'], index=range(0,2014))\n",
    "w19 = pd.Timestamp('2008-11-19 07:00:00')\n",
    "w20 = pd.Timestamp('2008-11-20 06:59:59')\n",
    "w26 = pd.Timestamp('2008-11-26 07:00:00')\n",
    "w27 = pd.Timestamp('2008-11-27 06:59:59')\n",
    "w03 = pd.Timestamp('2008-12-03 07:00:00')\n",
    "w04 = pd.Timestamp('2008-12-04 06:59:59')\n",
    "w = 0\n",
    "wt = 0\n",
    "for i in range(len(dataset)):\n",
    "    if (dataset.loc[i, 'timestamp'] >= w19 and dataset.loc[i, 'timestamp'] <= w20) or (dataset.loc[i, 'timestamp'] >= w26 and dataset.loc[i, 'timestamp'] <= w27):\n",
    "        wednesday.iloc[w] = pd.Series({'timestamp': dataset.loc[i, 'timestamp'], 'date': dataset.loc[i, 'date'], 'time': dataset.loc[i, 'time'], 'sensor': dataset.loc[i, 'sensor'], 'action': dataset.loc[i, 'action'], 'event': dataset.loc[i, 'event'], 'pattern': dataset.loc[i, 'pattern'], 'activity': dataset.loc[i, 'activity']})\n",
    "        w += 1\n",
    "    elif (dataset.loc[i, 'timestamp'] >= w03 and dataset.loc[i, 'timestamp'] <= w04):\n",
    "        wednesday_test.iloc[wt] = pd.Series({'timestamp': dataset.loc[i, 'timestamp'], 'date': dataset.loc[i, 'date'], 'time': dataset.loc[i, 'time'], 'sensor': dataset.loc[i, 'sensor'], 'action': dataset.loc[i, 'action'], 'event': dataset.loc[i, 'event'], 'pattern': dataset.loc[i, 'pattern'], 'activity': dataset.loc[i, 'activity']})\n",
    "        wt += 1\n",
    "\n",
    "wednesday.to_csv(\"hours/wednesday726.csv\", header = ['timestamp', 'date', 'time', 'sensor', 'action', 'event', 'pattern', 'activity'])\n",
    "wednesday_test.to_csv(\"hours/wednesday726_test.csv\", header = ['timestamp', 'date', 'time', 'sensor', 'action', 'event', 'pattern', 'activity'])"
   ],
   "metadata": {
    "collapsed": false,
    "pycharm": {
     "name": "#%%\n"
    }
   }
  },
  {
   "cell_type": "code",
   "execution_count": 53,
   "outputs": [],
   "source": [
    "thursday = pd.DataFrame(columns = ['timestamp', 'date', 'time', 'sensor', 'action', 'event', 'pattern', 'activity'], index=range(0,1116))\n",
    "thursday_test = pd.DataFrame(columns = ['timestamp', 'date', 'time', 'sensor', 'action', 'event', 'pattern', 'activity'], index=range(0,404))\n",
    "th20 = pd.Timestamp('2008-11-20 07:00:00')\n",
    "th21 = pd.Timestamp('2008-11-21 06:59:59')\n",
    "th27 = pd.Timestamp('2008-11-27 07:00:00')\n",
    "th28 = pd.Timestamp('2008-11-28 06:59:59')\n",
    "th04 = pd.Timestamp('2008-12-04 07:00:00')\n",
    "th05 = pd.Timestamp('2008-12-05 06:59:59')\n",
    "th = 0\n",
    "tht = 0\n",
    "for i in range(len(dataset)):\n",
    "    if (dataset.loc[i, 'timestamp'] >= th20 and dataset.loc[i, 'timestamp'] <= th21) or (dataset.loc[i, 'timestamp'] >= th27 and dataset.loc[i, 'timestamp'] <= th28):\n",
    "        thursday.iloc[th] = pd.Series({'timestamp': dataset.loc[i, 'timestamp'], 'date': dataset.loc[i, 'date'], 'time': dataset.loc[i, 'time'], 'sensor': dataset.loc[i, 'sensor'], 'action': dataset.loc[i, 'action'], 'event': dataset.loc[i, 'event'], 'pattern': dataset.loc[i, 'pattern'], 'activity': dataset.loc[i, 'activity']})\n",
    "        th += 1\n",
    "    elif (dataset.loc[i, 'timestamp'] >= th04 and dataset.loc[i, 'timestamp'] <= th05):\n",
    "        thursday_test.iloc[tht] = pd.Series({'timestamp': dataset.loc[i, 'timestamp'], 'date': dataset.loc[i, 'date'], 'time': dataset.loc[i, 'time'], 'sensor': dataset.loc[i, 'sensor'], 'action': dataset.loc[i, 'action'], 'event': dataset.loc[i, 'event'], 'pattern': dataset.loc[i, 'pattern'], 'activity': dataset.loc[i, 'activity']})\n",
    "        tht += 1\n",
    "\n",
    "thursday.to_csv(\"hours/thursday726.csv\", header = ['timestamp', 'date', 'time', 'sensor', 'action', 'event', 'pattern', 'activity'])\n",
    "thursday_test.to_csv(\"hours/thursday726_test.csv\", header = ['timestamp', 'date', 'time', 'sensor', 'action', 'event', 'pattern', 'activity'])"
   ],
   "metadata": {
    "collapsed": false,
    "pycharm": {
     "name": "#%%\n"
    }
   }
  },
  {
   "cell_type": "code",
   "execution_count": 55,
   "outputs": [],
   "source": [
    "friday = pd.DataFrame(columns = ['timestamp', 'date', 'time', 'sensor', 'action', 'event', 'pattern', 'activity'], index=range(0,1371))\n",
    "friday_test = pd.DataFrame(columns = ['timestamp', 'date', 'time', 'sensor', 'action', 'event', 'pattern', 'activity'], index=range(0,618))\n",
    "f21 = pd.Timestamp('2008-11-21 07:00:00')\n",
    "f22 = pd.Timestamp('2008-11-22 06:59:59')\n",
    "f28 = pd.Timestamp('2008-11-28 07:00:00')\n",
    "f29 = pd.Timestamp('2008-11-29 06:59:59')\n",
    "f05 = pd.Timestamp('2008-12-05 07:00:00')\n",
    "f06 = pd.Timestamp('2008-12-06 06:59:59')\n",
    "f = 0\n",
    "ft = 0\n",
    "for i in range(len(dataset)):\n",
    "    if (dataset.loc[i, 'timestamp'] >= f21 and dataset.loc[i, 'timestamp'] <= f22) or (dataset.loc[i, 'timestamp'] >= f28 and dataset.loc[i, 'timestamp'] <= f29):\n",
    "        friday.iloc[f] = pd.Series({'timestamp': dataset.loc[i, 'timestamp'], 'date': dataset.loc[i, 'date'], 'time': dataset.loc[i, 'time'], 'sensor': dataset.loc[i, 'sensor'], 'action': dataset.loc[i, 'action'], 'event': dataset.loc[i, 'event'], 'pattern': dataset.loc[i, 'pattern'], 'activity': dataset.loc[i, 'activity']})\n",
    "        f += 1\n",
    "    elif (dataset.loc[i, 'timestamp'] >= f05 and dataset.loc[i, 'timestamp'] <= f06):\n",
    "        friday_test.iloc[ft] = pd.Series({'timestamp': dataset.loc[i, 'timestamp'], 'date': dataset.loc[i, 'date'], 'time': dataset.loc[i, 'time'], 'sensor': dataset.loc[i, 'sensor'], 'action': dataset.loc[i, 'action'], 'event': dataset.loc[i, 'event'], 'pattern': dataset.loc[i, 'pattern'], 'activity': dataset.loc[i, 'activity']})\n",
    "        ft += 1\n",
    "\n",
    "friday.to_csv(\"hours/friday726.csv\", header = ['timestamp', 'date', 'time', 'sensor', 'action', 'event', 'pattern', 'activity'])\n",
    "friday_test.to_csv(\"hours/friday726_test.csv\", header = ['timestamp', 'date', 'time', 'sensor', 'action', 'event', 'pattern', 'activity'])"
   ],
   "metadata": {
    "collapsed": false,
    "pycharm": {
     "name": "#%%\n"
    }
   }
  },
  {
   "cell_type": "code",
   "execution_count": 57,
   "outputs": [],
   "source": [
    "saturday = pd.DataFrame(columns = ['timestamp', 'date', 'time', 'sensor', 'action', 'event', 'pattern', 'activity'], index=range(0,2376))\n",
    "saturday_test = pd.DataFrame(columns = ['timestamp', 'date', 'time', 'sensor', 'action', 'event', 'pattern', 'activity'], index=range(0,1999))\n",
    "sa22 = pd.Timestamp('2008-11-22 07:00:00')\n",
    "sa23 = pd.Timestamp('2008-11-23 06:59:59')\n",
    "sa29 = pd.Timestamp('2008-11-29 07:00:00')\n",
    "sa30 = pd.Timestamp('2008-11-30 06:59:59')\n",
    "sa06 = pd.Timestamp('2008-12-06 07:00:00')\n",
    "sa07 = pd.Timestamp('2008-12-07 06:59:59')\n",
    "sa = 0\n",
    "sat = 0\n",
    "for i in range(len(dataset)):\n",
    "    if (dataset.loc[i, 'timestamp'] >= sa22 and dataset.loc[i, 'timestamp'] <= sa23) or (dataset.loc[i, 'timestamp'] >= sa29 and dataset.loc[i, 'timestamp'] <= sa30):\n",
    "        saturday.iloc[sa] = pd.Series({'timestamp': dataset.loc[i, 'timestamp'], 'date': dataset.loc[i, 'date'], 'time': dataset.loc[i, 'time'], 'sensor': dataset.loc[i, 'sensor'], 'action': dataset.loc[i, 'action'], 'event': dataset.loc[i, 'event'], 'pattern': dataset.loc[i, 'pattern'], 'activity': dataset.loc[i, 'activity']})\n",
    "        sa += 1\n",
    "    elif (dataset.loc[i, 'timestamp'] >= sa06 and dataset.loc[i, 'timestamp'] <= sa07):\n",
    "        saturday_test.iloc[sat] = pd.Series({'timestamp': dataset.loc[i, 'timestamp'], 'date': dataset.loc[i, 'date'], 'time': dataset.loc[i, 'time'], 'sensor': dataset.loc[i, 'sensor'], 'action': dataset.loc[i, 'action'], 'event': dataset.loc[i, 'event'], 'pattern': dataset.loc[i, 'pattern'], 'activity': dataset.loc[i, 'activity']})\n",
    "        sat += 1\n",
    "\n",
    "saturday.to_csv(\"hours/saturday726.csv\", header = ['timestamp', 'date', 'time', 'sensor', 'action', 'event', 'pattern', 'activity'])\n",
    "saturday_test.to_csv(\"hours/saturday726_test.csv\", header = ['timestamp', 'date', 'time', 'sensor', 'action', 'event', 'pattern', 'activity'])"
   ],
   "metadata": {
    "collapsed": false,
    "pycharm": {
     "name": "#%%\n"
    }
   }
  },
  {
   "cell_type": "code",
   "execution_count": 59,
   "outputs": [],
   "source": [
    "sunday = pd.DataFrame(columns = ['timestamp', 'date', 'time', 'sensor', 'action', 'event', 'pattern', 'activity'], index=range(0,4958))\n",
    "sunday_test = pd.DataFrame(columns = ['timestamp', 'date', 'time', 'sensor', 'action', 'event', 'pattern', 'activity'], index=range(0,1000))\n",
    "su23 = pd.Timestamp('2008-11-23 07:00:00')\n",
    "su24 = pd.Timestamp('2008-11-24 06:59:59')\n",
    "su30 = pd.Timestamp('2008-11-30 07:00:00')\n",
    "su01 = pd.Timestamp('2008-12-01 06:59:59')\n",
    "su07 = pd.Timestamp('2008-12-07 07:00:00')\n",
    "su08 = pd.Timestamp('2008-12-08 06:59:59')\n",
    "su = 0\n",
    "sut = 0\n",
    "for i in range(len(dataset)):\n",
    "    if (dataset.loc[i, 'timestamp'] >= su23 and dataset.loc[i, 'timestamp'] <= su24) or (dataset.loc[i, 'timestamp'] >= su30 and dataset.loc[i, 'timestamp'] <= su01):\n",
    "        sunday.iloc[su] = pd.Series({'timestamp': dataset.loc[i, 'timestamp'], 'date': dataset.loc[i, 'date'], 'time': dataset.loc[i, 'time'], 'sensor': dataset.loc[i, 'sensor'], 'action': dataset.loc[i, 'action'], 'event': dataset.loc[i, 'event'], 'pattern': dataset.loc[i, 'pattern'], 'activity': dataset.loc[i, 'activity']})\n",
    "        su += 1\n",
    "    elif (dataset.loc[i, 'timestamp'] >= su07 and dataset.loc[i, 'timestamp'] <= su08):\n",
    "        sunday_test.iloc[sut] = pd.Series({'timestamp': dataset.loc[i, 'timestamp'], 'date': dataset.loc[i, 'date'], 'time': dataset.loc[i, 'time'], 'sensor': dataset.loc[i, 'sensor'], 'action': dataset.loc[i, 'action'], 'event': dataset.loc[i, 'event'], 'pattern': dataset.loc[i, 'pattern'], 'activity': dataset.loc[i, 'activity']})\n",
    "        sut += 1\n",
    "\n",
    "sunday.to_csv(\"hours/sunday726.csv\", header = ['timestamp', 'date', 'time', 'sensor', 'action', 'event', 'pattern', 'activity'])\n",
    "sunday_test.to_csv(\"hours/sunday726_test.csv\", header = ['timestamp', 'date', 'time', 'sensor', 'action', 'event', 'pattern', 'activity'])"
   ],
   "metadata": {
    "collapsed": false,
    "pycharm": {
     "name": "#%%\n"
    }
   }
  },
  {
   "cell_type": "code",
   "execution_count": null,
   "outputs": [],
   "source": [
    "#FROM MIDNIGHT TO MIDNIGHT\n",
    "'''\n",
    "sunday = pd.DataFrame(columns = ['timestamp', 'date', 'time', 'sensor', 'action', 'event', 'pattern', 'activity'], index=range(0,4458))\n",
    "su = 0\n",
    "for i in range(len(dataset)):\n",
    "    if (dataset.loc[i, 'date'] == '2008-11-23') or (dataset.loc[i, 'date'] == '2008-11-30') or (dataset.loc[i, 'date'] == '2008-12-07'):\n",
    "        sunday.iloc[su] = pd.Series({'timestamp': dataset.loc[i, 'timestamp'], 'date': dataset.loc[i, 'date'], 'time': dataset.loc[i, 'time'], 'sensor': dataset.loc[i, 'sensor'], 'action': dataset.loc[i, 'action'], 'event': dataset.loc[i, 'event'], 'pattern': dataset.loc[i, 'pattern'], 'activity': dataset.loc[i, 'activity']})\n",
    "        su += 1\n",
    "sunday.to_csv(\"sunday.csv\", header = ['timestamp', 'date', 'time', 'sensor', 'action', 'event', 'pattern', 'activity'])\n",
    "'''"
   ],
   "metadata": {
    "collapsed": false,
    "pycharm": {
     "name": "#%%\n"
    }
   }
  }
 ],
 "metadata": {
  "kernelspec": {
   "display_name": "Python 3",
   "language": "python",
   "name": "python3"
  },
  "language_info": {
   "codemirror_mode": {
    "name": "ipython",
    "version": 2
   },
   "file_extension": ".py",
   "mimetype": "text/x-python",
   "name": "python",
   "nbconvert_exporter": "python",
   "pygments_lexer": "ipython2",
   "version": "2.7.6"
  }
 },
 "nbformat": 4,
 "nbformat_minor": 0
}